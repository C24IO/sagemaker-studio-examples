{
 "cells": [
  {
   "cell_type": "code",
   "execution_count": 1,
   "metadata": {},
   "outputs": [
    {
     "name": "stdout",
     "output_type": "stream",
     "text": [
      "uid=0(root) gid=0(root) groups=0(root)\n"
     ]
    }
   ],
   "source": [
    "!id"
   ]
  },
  {
   "cell_type": "code",
   "execution_count": 3,
   "metadata": {},
   "outputs": [
    {
     "name": "stdout",
     "output_type": "stream",
     "text": [
      "/bin/sh: 1: docker: not found\n"
     ]
    }
   ],
   "source": [
    "!docker"
   ]
  },
  {
   "cell_type": "code",
   "execution_count": 5,
   "metadata": {},
   "outputs": [
    {
     "name": "stdout",
     "output_type": "stream",
     "text": [
      " PPID   PID  PGID   SID TTY      TPGID STAT   UID   TIME COMMAND\n",
      "    0     1     1     1 ?           -1 Ss       0   0:00 /bin/sh /opt/.sagemaker\n",
      "    1     7     1     1 ?           -1 Sl       0   0:47 /opt/.sagemakerinternal\n",
      "    7    13    13    13 ?           -1 Ssl      0   0:04 /opt/conda/bin/python -\n",
      "    7    16    16    16 ?           -1 Ssl      0   0:04 /opt/conda/bin/python -\n",
      "    7   135   135   135 ?           -1 Ssl      0   0:00 /opt/conda/bin/python -\n",
      "    7   158   158   158 ?           -1 Rsl      0   0:00 /opt/conda/bin/python -\n",
      "  158   180   180   180 pts/0      180 Ss+      0   0:00 /bin/sh -c ps ajx\n",
      "  180   181   180   180 pts/0      180 R+       0   0:00 ps ajx\n"
     ]
    }
   ],
   "source": [
    "!ps ajx"
   ]
  },
  {
   "cell_type": "code",
   "execution_count": null,
   "metadata": {},
   "outputs": [],
   "source": []
  },
  {
   "cell_type": "code",
   "execution_count": null,
   "metadata": {},
   "outputs": [],
   "source": []
  },
  {
   "cell_type": "code",
   "execution_count": null,
   "metadata": {},
   "outputs": [],
   "source": []
  },
  {
   "cell_type": "code",
   "execution_count": null,
   "metadata": {},
   "outputs": [],
   "source": []
  },
  {
   "cell_type": "code",
   "execution_count": null,
   "metadata": {},
   "outputs": [],
   "source": []
  }
 ],
 "metadata": {
  "kernelspec": {
   "display_name": "Python 3 (Data Science)",
   "language": "python",
   "name": "python3__SAGEMAKER_INTERNAL__arn:aws:sagemaker:us-east-2:429704687514:environment/datascience"
  },
  "language_info": {
   "codemirror_mode": {
    "name": "ipython",
    "version": 3
   },
   "file_extension": ".py",
   "mimetype": "text/x-python",
   "name": "python",
   "nbconvert_exporter": "python",
   "pygments_lexer": "ipython3",
   "version": "3.7.6"
  }
 },
 "nbformat": 4,
 "nbformat_minor": 4
}
