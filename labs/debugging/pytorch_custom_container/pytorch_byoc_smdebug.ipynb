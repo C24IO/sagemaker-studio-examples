{
 "cells": [
  {
   "cell_type": "markdown",
   "metadata": {},
   "source": [
    "# Using Amazon SageMaker Debugger with your own PyTorch container"
   ]
  },
  {
   "cell_type": "markdown",
   "metadata": {},
   "source": [
    "Amazon SageMaker is a managed platform to build, train and host machine learning models. Amazon SageMaker Debugger is a new feature which offers capability to debug machine learning and deep learning models during training by identifying and detecting problems with the models in real time."
   ]
  },
  {
   "cell_type": "markdown",
   "metadata": {},
   "source": [
    "Amazon SageMaker also gives you the option of bringing your own algorithms packaged in a custom container, that can then be trained and deployed in the Amazon SageMaker environment. \n",
    "\n",
    "This notebook guides you through an example of using your own container with PyTorch for training, along with the recently added feature, Amazon SageMaker Debugger."
   ]
  },
  {
   "cell_type": "markdown",
   "metadata": {},
   "source": [
    "## How does Amazon SageMaker Debugger work?\n",
    "\n",
    "Amazon SageMaker Debugger lets you go beyond just looking at scalars like losses and accuracies during training and gives you full visibility into all tensors 'flowing through the graph' during training. Furthermore, it helps you monitor your training in real time using rules and CloudWatch events and react to issues like, for example, common training issues such as vanishing gradients or poor weight initialization.\n",
    "\n",
    "### Concepts\n",
    "* **Tensor**: These are the artifacts that define the state of the training job at any particular instant in its lifecycle.\n",
    "* **Debug Hook**: Captures the tensors flowing through the training computational graph every N steps.\n",
    "* **Debugging Rule**: Logic to analyze the tensors captured by the hook and report anomalies.\n",
    "\n",
    "With these concepts in mind, let's understand the overall flow of things which Amazon SageMaker Debugger uses to orchestrate debugging.\n",
    "\n",
    "It operates in two steps - saving tensors and analysis.\n",
    "\n",
    "### Saving tensors\n",
    "\n",
    "Tensors that debug hook captures are stored in S3 location specified by you. There are two ways you can configure Amazon SageMaker Debugger for storage:\n",
    "\n",
    "   1. With no changes to your training script: If you use any of SageMaker provided [Deep Learning containers](https://docs.aws.amazon.com/sagemaker/latest/dg/pre-built-containers-frameworks-deep-learning.html) then you don't need to make any changes to your training script for tensors to be stored. Amazon SageMaker Debugger will use the configuration you provide in the framework `Estimator` to save tensors in the fashion you specify.\n",
    "   2. Orchestrating your script to store tensors: Amazon SageMaker Debugger exposes a library which allows you to capture these tensors and save them for analysis. It's highly customizable and allows to save the specific tensors you want at different frequencies and configurations. Refer to the [DeveloperGuide](https://github.com/awslabs/sagemaker-debugger/tree/master/docs) for details on how to use Amazon SageMaker Debugger with your choice of framework in your training script.\n",
    "\n",
    "### Analysis of tensors\n",
    "\n",
    "Once tensors are saved, Amazon SageMaker Debugger can be configured to run debugging ***Rules*** on them. On a very broad level, a rule is a python script used to detect certain conditions during training. Some of the conditions that a data scientist training an algorithm might be interested in are monitoring for gradients getting too large or too small, detecting overfitting, and so on. Amazon SageMaker Debugger comes pre-packaged with certain built-in rules. You can also write your own rules using the Amazon SageMaker Debugger APIs. You can also analyze raw tensor data outside of the Rules construct in a notebook, using Amazong Sagemaker Debugger's full set of APIs."
   ]
  },
  {
   "cell_type": "markdown",
   "metadata": {},
   "source": [
    "## Setup\n",
    "\n",
    "To successfully execute this example, the following packages need to be installed in your container:\n",
    "\n",
    "* PyTorch v1.3.1\n",
    "* Torchvision v0.4.2\n",
    "* Amazon SageMaker Debugger (smdebug)\n",
    "\n",
    "`!python -m pip install smdebug`"
   ]
  },
  {
   "cell_type": "markdown",
   "metadata": {},
   "source": [
    "## Bring Your Own PyTorch for training\n",
    "\n",
    "In this notebook, we will train a PyTorch model with Amazon SageMaker Debugger enabled. We can do that by using  custom PyTorch container, enabling Amazon SageMaker Debugger in the training script, and bringing it to Amazon SageMaker for training.\n",
    "\n",
    "Note: The changes to the training script that are mentioned in this notebook are only required when a custom container is used. Amazon SageMaker Debugger will be automatically enabled (and not require any changes to  training script) if you use the SageMaker Deep Learning Container for PyTorch.\n",
    "\n",
    "We will focus on how to modify a training script to save tensors by registering debug hooks and specifying which tensors to save.\n",
    "\n",
    "The model used for this notebook is trained with the MNIST dataset. The example is based on https://github.com/pytorch/examples/blob/master/mnist/main.py"
   ]
  },
  {
   "cell_type": "markdown",
   "metadata": {},
   "source": [
    "### Modifying the training script\n",
    "\n",
    "Before we define the Estimator object and start training, we will explore parts of the training script in detail. (The entire training script can be found at [./scripts/pytorch_mnist.py](./scripts/pytorch_mnist.py))."
   ]
  },
  {
   "cell_type": "markdown",
   "metadata": {},
   "source": [
    "Step 1: Import Amazon SageMaker Debugger.\n",
    "\n",
    "```python\n",
    "import smdebug.pytorch as smd\n",
    "```\n",
    "\n",
    "Step 2: Create a debugger hook to save tensors of specified collections. Apart from a list of collections, the hook takes the save config and output directory as parameters. The output directory is a mandatory parameter. All these parameters can be specified in the config json file.\n",
    "\n",
    "```python\n",
    "def create_smdebug_hook():\n",
    "    # This allows you to create the hook from the configuration you pass to the SageMaker pySDK\n",
    "    hook = smd.Hook.create_from_json_file()\n",
    "    return hook\n",
    "```\n",
    "\n",
    "Step 3: Register the hook for all layers in the model\n",
    "\n",
    "```python\n",
    "hook.register_hook(model)\n",
    "```\n",
    "\n",
    "Step 4: For PyTorch, if you use a Loss module for loss, add a step to register loss\n",
    "\n",
    "```python\n",
    "hook.register_loss(criterion)\n",
    "```\n",
    "\n",
    "Once these changes are made in the training script, Amazon SageMaker Debugger will start saving tensors, belonging to the specified collections, during training into the specfied output directory.\n",
    "\n",
    "Now, we will setup the Estimator and start training using modified training script."
   ]
  },
  {
   "cell_type": "code",
   "execution_count": 1,
   "metadata": {},
   "outputs": [
    {
     "data": {
      "text/plain": [
       "'/root'"
      ]
     },
     "execution_count": 1,
     "metadata": {},
     "output_type": "execute_result"
    }
   ],
   "source": [
    "%pwd"
   ]
  },
  {
   "cell_type": "code",
   "execution_count": 2,
   "metadata": {},
   "outputs": [
    {
     "name": "stdout",
     "output_type": "stream",
     "text": [
      "/root/pocket/debugging/pytorch_custom_container\n"
     ]
    }
   ],
   "source": [
    "%cd /root/pocket/debugging/pytorch_custom_container/"
   ]
  },
  {
   "cell_type": "code",
   "execution_count": 3,
   "metadata": {},
   "outputs": [
    {
     "name": "stdout",
     "output_type": "stream",
     "text": [
      "Requirement already satisfied: pytest in /opt/conda/lib/python3.6/site-packages (5.3.5)\n",
      "Requirement already satisfied: more-itertools>=4.0.0 in /opt/conda/lib/python3.6/site-packages (from pytest) (8.2.0)\n",
      "Requirement already satisfied: attrs>=17.4.0 in /opt/conda/lib/python3.6/site-packages (from pytest) (19.3.0)\n",
      "Requirement already satisfied: pluggy<1.0,>=0.12 in /opt/conda/lib/python3.6/site-packages (from pytest) (0.13.1)\n",
      "Requirement already satisfied: wcwidth in /opt/conda/lib/python3.6/site-packages (from pytest) (0.1.7)\n",
      "Requirement already satisfied: importlib-metadata>=0.12; python_version < \"3.8\" in /opt/conda/lib/python3.6/site-packages (from pytest) (1.5.0)\n",
      "Requirement already satisfied: packaging in /opt/conda/lib/python3.6/site-packages (from pytest) (20.1)\n",
      "Requirement already satisfied: py>=1.5.0 in /opt/conda/lib/python3.6/site-packages (from pytest) (1.8.1)\n",
      "Requirement already satisfied: zipp>=0.5 in /opt/conda/lib/python3.6/site-packages (from importlib-metadata>=0.12; python_version < \"3.8\"->pytest) (2.2.0)\n",
      "Requirement already satisfied: pyparsing>=2.0.2 in /opt/conda/lib/python3.6/site-packages (from packaging->pytest) (2.4.2)\n",
      "Requirement already satisfied: six in /opt/conda/lib/python3.6/site-packages (from packaging->pytest) (1.12.0)\n"
     ]
    }
   ],
   "source": [
    "!pip install pytest"
   ]
  },
  {
   "cell_type": "code",
   "execution_count": 4,
   "metadata": {},
   "outputs": [],
   "source": [
    "from __future__ import absolute_import\n",
    "\n",
    "import boto3\n",
    "import pytest\n",
    "from sagemaker.pytorch import PyTorch\n",
    "from sagemaker import get_execution_role\n",
    "from sagemaker.debugger import Rule, DebuggerHookConfig, TensorBoardOutputConfig, CollectionConfig, rule_configs"
   ]
  },
  {
   "cell_type": "markdown",
   "metadata": {},
   "source": [
    "Define the configuration of training to run. `ecr_image` is where you can provide link to your bring-your-own-container. `hyperparameters` are fed into the training script with data directory (directory where the training dataset is stored) and smdebug directory (directory where the tensors will be saved) are mandatory fields."
   ]
  },
  {
   "cell_type": "code",
   "execution_count": 5,
   "metadata": {},
   "outputs": [],
   "source": [
    "role = get_execution_role()\n",
    "training_dir = '/tmp/pytorch-smdebug'\n",
    "smdebug_mnist_script = 'scripts/pytorch_mnist.py'\n",
    "\n",
    "hyperparameters = {'random_seed': True, 'num_steps': 50, 'epochs': 5,\n",
    "                   'data_dir':training_dir}"
   ]
  },
  {
   "cell_type": "code",
   "execution_count": null,
   "metadata": {},
   "outputs": [],
   "source": []
  },
  {
   "cell_type": "code",
   "execution_count": 6,
   "metadata": {},
   "outputs": [
    {
     "data": {
      "text/plain": [
       "{'random_seed': True,\n",
       " 'num_steps': 50,\n",
       " 'epochs': 5,\n",
       " 'data_dir': '/tmp/pytorch-smdebug'}"
      ]
     },
     "execution_count": 6,
     "metadata": {},
     "output_type": "execute_result"
    }
   ],
   "source": [
    "hyperparameters"
   ]
  },
  {
   "cell_type": "markdown",
   "metadata": {},
   "source": [
    "\"rules\" is a new parameter that will accept a list of rules you wish to evaluate the tensors output against. For rules, Amazon SageMaker Debugger supports two types:\n",
    "* SageMaker Rules: These are rules specially curated by the data science and engineering teams in Amazon SageMaker which you can opt to evaluate against your training job.\n",
    "* Custom Rules: You can optionally choose to write your own rule as a Python source file and have it evaluated against your training job. To provide Amazon SageMaker Debugger to evaluate this rule, you would have to provide the S3 location of the rule source and the evaluator image."
   ]
  },
  {
   "cell_type": "markdown",
   "metadata": {},
   "source": [
    "In this example, we will use the VanishingGradient which will attempt to evaluate if there are vanishing gradients. Alternatively, you could write your own custom rule, as demonstrated in [this](https://github.com/aws/amazon-sagemaker-examples-staging/blob/master/sagemaker-debugger/tensorflow_keras_custom_rule/tf-keras-custom-rule.ipynb) example."
   ]
  },
  {
   "cell_type": "code",
   "execution_count": 7,
   "metadata": {},
   "outputs": [],
   "source": [
    "rules = [\n",
    "    Rule.sagemaker(rule_configs.vanishing_gradient())\n",
    "]\n",
    "\n",
    "estimator = PyTorch(entry_point=smdebug_mnist_script,\n",
    "                  base_job_name='smdebugger-demo-mnist-pytorch',\n",
    "                  role=role,\n",
    "                  train_instance_count=1,\n",
    "                  train_instance_type='ml.m4.xlarge',\n",
    "                  train_volume_size=400,\n",
    "                  train_max_run=3600,\n",
    "                  hyperparameters=hyperparameters,\n",
    "                  framework_version='1.3.1',\n",
    "                  py_version='py3',\n",
    "                  ## New parameter\n",
    "                  rules = rules\n",
    "                 )"
   ]
  },
  {
   "cell_type": "markdown",
   "metadata": {},
   "source": [
    "*Note that Amazon Sagemaker Debugger is only supported for py_version='py3'.*"
   ]
  },
  {
   "cell_type": "markdown",
   "metadata": {},
   "source": [
    "With the next step we kick off traning job using Estimator object we created above. Note that the way training job starts here is asynchronous. That means that notebook is not blocked and control flow is passed to next cell."
   ]
  },
  {
   "cell_type": "code",
   "execution_count": 8,
   "metadata": {},
   "outputs": [],
   "source": [
    "estimator.fit(wait=False)"
   ]
  },
  {
   "cell_type": "markdown",
   "metadata": {},
   "source": [
    "### Result\n",
    "\n",
    "As a result of calling the fit() Amazon SageMaker Debugger kicked off a rule evaluation job to monitor loss decrease, in parallel with the training job. The rule evaluation status(es) will be visible in the training logs at regular intervals. As you can see, in the summary, there was no step in the training which reported vanishing gradients in the tensors. Although, the loss was not found to be decreasing at step 1900."
   ]
  },
  {
   "cell_type": "code",
   "execution_count": 9,
   "metadata": {},
   "outputs": [
    {
     "data": {
      "text/plain": [
       "[{'RuleConfigurationName': 'VanishingGradient',\n",
       "  'RuleEvaluationStatus': 'InProgress',\n",
       "  'LastModifiedTime': datetime.datetime(2020, 2, 11, 2, 10, 30, 285000, tzinfo=tzlocal())}]"
      ]
     },
     "execution_count": 9,
     "metadata": {},
     "output_type": "execute_result"
    }
   ],
   "source": [
    "estimator.latest_training_job.rule_job_summary()"
   ]
  },
  {
   "cell_type": "code",
   "execution_count": 11,
   "metadata": {},
   "outputs": [
    {
     "data": {
      "text/plain": [
       "{'VanishingGradient': 'https://us-east-2.console.aws.amazon.com/cloudwatch/home?region=us-east-2#logStream:group=/aws/sagemaker/ProcessingJobs;prefix=smdebugger-demo-mnist-pyto-VanishingGradient-c59c3876;streamFilter=typeLogStreamPrefix'}"
      ]
     },
     "execution_count": 11,
     "metadata": {},
     "output_type": "execute_result"
    }
   ],
   "source": [
    "def _get_rule_job_name(training_job_name, rule_configuration_name, rule_job_arn):\n",
    "        \"\"\"Helper function to get the rule job name with correct casing\"\"\"\n",
    "        return \"{}-{}-{}\".format(\n",
    "            training_job_name[:26], rule_configuration_name[:26], rule_job_arn[-8:]\n",
    "        )\n",
    "    \n",
    "def _get_cw_url_for_rule_job(rule_job_name, region):\n",
    "    return \"https://{}.console.aws.amazon.com/cloudwatch/home?region={}#logStream:group=/aws/sagemaker/ProcessingJobs;prefix={};streamFilter=typeLogStreamPrefix\".format(region, region, rule_job_name)\n",
    "\n",
    "\n",
    "def get_rule_jobs_cw_urls(estimator):\n",
    "    region = boto3.Session().region_name\n",
    "    training_job = estimator.latest_training_job\n",
    "    training_job_name = training_job.describe()[\"TrainingJobName\"]\n",
    "    rule_eval_statuses = training_job.describe()[\"DebugRuleEvaluationStatuses\"]\n",
    "    \n",
    "    result={}\n",
    "    for status in rule_eval_statuses:\n",
    "        if status.get(\"RuleEvaluationJobArn\", None) is not None:\n",
    "            rule_job_name = _get_rule_job_name(training_job_name, status[\"RuleConfigurationName\"], status[\"RuleEvaluationJobArn\"])\n",
    "            result[status[\"RuleConfigurationName\"]] = _get_cw_url_for_rule_job(rule_job_name, region)\n",
    "    return result\n",
    "\n",
    "get_rule_jobs_cw_urls(estimator)"
   ]
  },
  {
   "cell_type": "markdown",
   "metadata": {},
   "source": [
    "### Analysis\n",
    "\n",
    "Another aspect of the Amazon SageMaker Debugger is analysis. It allows us to perform interactive exploration of the tensors saved in real time or after the job. Here we focus on after-the-fact analysis of the above job. We import the smdebug library, which defines a concept of Trial that represents a single training run. Note how we fetch the path to debugger artifacts for the above job."
   ]
  },
  {
   "cell_type": "code",
   "execution_count": 12,
   "metadata": {},
   "outputs": [
    {
     "name": "stdout",
     "output_type": "stream",
     "text": [
      "[2020-02-11 02:11:35.916 009d7edc9798:613 INFO s3_trial.py:42] Loading trial debug-output at path s3://sagemaker-us-east-2-308412838853/smdebugger-demo-mnist-pytorch-2020-02-11-02-10-28-395/debug-output\n",
      "[2020-02-11 02:11:56.314 009d7edc9798:613 WARNING trial.py:148] Waiting to read collections files generated by the training job.If this has been a while, you might want to check that the trial is pointed at the right path.\n",
      "[2020-02-11 02:11:58.343 009d7edc9798:613 WARNING trial.py:148] Waiting to read collections files generated by the training job.If this has been a while, you might want to check that the trial is pointed at the right path.\n",
      "[2020-02-11 02:12:00.376 009d7edc9798:613 WARNING trial.py:148] Waiting to read collections files generated by the training job.If this has been a while, you might want to check that the trial is pointed at the right path.\n",
      "[2020-02-11 02:12:02.409 009d7edc9798:613 WARNING trial.py:148] Waiting to read collections files generated by the training job.If this has been a while, you might want to check that the trial is pointed at the right path.\n",
      "[2020-02-11 02:12:04.439 009d7edc9798:613 WARNING trial.py:148] Waiting to read collections files generated by the training job.If this has been a while, you might want to check that the trial is pointed at the right path.\n",
      "[2020-02-11 02:12:06.470 009d7edc9798:613 WARNING trial.py:148] Waiting to read collections files generated by the training job.If this has been a while, you might want to check that the trial is pointed at the right path.\n",
      "[2020-02-11 02:12:08.499 009d7edc9798:613 WARNING trial.py:148] Waiting to read collections files generated by the training job.If this has been a while, you might want to check that the trial is pointed at the right path.\n",
      "[2020-02-11 02:12:10.530 009d7edc9798:613 WARNING trial.py:148] Waiting to read collections files generated by the training job.If this has been a while, you might want to check that the trial is pointed at the right path.\n",
      "[2020-02-11 02:12:12.563 009d7edc9798:613 WARNING trial.py:148] Waiting to read collections files generated by the training job.If this has been a while, you might want to check that the trial is pointed at the right path.\n",
      "[2020-02-11 02:12:14.597 009d7edc9798:613 WARNING trial.py:148] Waiting to read collections files generated by the training job.If this has been a while, you might want to check that the trial is pointed at the right path.\n",
      "[2020-02-11 02:12:16.627 009d7edc9798:613 WARNING trial.py:148] Waiting to read collections files generated by the training job.If this has been a while, you might want to check that the trial is pointed at the right path.\n",
      "[2020-02-11 02:12:18.694 009d7edc9798:613 WARNING trial.py:148] Waiting to read collections files generated by the training job.If this has been a while, you might want to check that the trial is pointed at the right path.\n",
      "[2020-02-11 02:12:20.724 009d7edc9798:613 WARNING trial.py:148] Waiting to read collections files generated by the training job.If this has been a while, you might want to check that the trial is pointed at the right path.\n",
      "[2020-02-11 02:12:22.753 009d7edc9798:613 WARNING trial.py:148] Waiting to read collections files generated by the training job.If this has been a while, you might want to check that the trial is pointed at the right path.\n",
      "[2020-02-11 02:12:24.784 009d7edc9798:613 WARNING trial.py:148] Waiting to read collections files generated by the training job.If this has been a while, you might want to check that the trial is pointed at the right path.\n",
      "[2020-02-11 02:12:26.831 009d7edc9798:613 WARNING trial.py:148] Waiting to read collections files generated by the training job.If this has been a while, you might want to check that the trial is pointed at the right path.\n",
      "[2020-02-11 02:12:28.867 009d7edc9798:613 WARNING trial.py:148] Waiting to read collections files generated by the training job.If this has been a while, you might want to check that the trial is pointed at the right path.\n",
      "[2020-02-11 02:12:30.906 009d7edc9798:613 WARNING trial.py:148] Waiting to read collections files generated by the training job.If this has been a while, you might want to check that the trial is pointed at the right path.\n",
      "[2020-02-11 02:12:32.936 009d7edc9798:613 WARNING trial.py:148] Waiting to read collections files generated by the training job.If this has been a while, you might want to check that the trial is pointed at the right path.\n",
      "[2020-02-11 02:12:34.990 009d7edc9798:613 WARNING trial.py:148] Waiting to read collections files generated by the training job.If this has been a while, you might want to check that the trial is pointed at the right path.\n",
      "[2020-02-11 02:12:37.021 009d7edc9798:613 WARNING trial.py:148] Waiting to read collections files generated by the training job.If this has been a while, you might want to check that the trial is pointed at the right path.\n",
      "[2020-02-11 02:12:39.051 009d7edc9798:613 WARNING trial.py:148] Waiting to read collections files generated by the training job.If this has been a while, you might want to check that the trial is pointed at the right path.\n",
      "[2020-02-11 02:12:41.082 009d7edc9798:613 WARNING trial.py:148] Waiting to read collections files generated by the training job.If this has been a while, you might want to check that the trial is pointed at the right path.\n",
      "[2020-02-11 02:12:43.118 009d7edc9798:613 WARNING trial.py:148] Waiting to read collections files generated by the training job.If this has been a while, you might want to check that the trial is pointed at the right path.\n",
      "[2020-02-11 02:12:45.146 009d7edc9798:613 WARNING trial.py:148] Waiting to read collections files generated by the training job.If this has been a while, you might want to check that the trial is pointed at the right path.\n",
      "[2020-02-11 02:12:47.181 009d7edc9798:613 WARNING trial.py:148] Waiting to read collections files generated by the training job.If this has been a while, you might want to check that the trial is pointed at the right path.\n",
      "[2020-02-11 02:12:49.231 009d7edc9798:613 WARNING trial.py:148] Waiting to read collections files generated by the training job.If this has been a while, you might want to check that the trial is pointed at the right path.\n",
      "[2020-02-11 02:12:51.262 009d7edc9798:613 WARNING trial.py:148] Waiting to read collections files generated by the training job.If this has been a while, you might want to check that the trial is pointed at the right path.\n",
      "[2020-02-11 02:12:53.292 009d7edc9798:613 WARNING trial.py:148] Waiting to read collections files generated by the training job.If this has been a while, you might want to check that the trial is pointed at the right path.\n",
      "[2020-02-11 02:12:55.322 009d7edc9798:613 WARNING trial.py:148] Waiting to read collections files generated by the training job.If this has been a while, you might want to check that the trial is pointed at the right path.\n",
      "[2020-02-11 02:12:57.358 009d7edc9798:613 WARNING trial.py:148] Waiting to read collections files generated by the training job.If this has been a while, you might want to check that the trial is pointed at the right path.\n",
      "[2020-02-11 02:12:59.392 009d7edc9798:613 WARNING trial.py:148] Waiting to read collections files generated by the training job.If this has been a while, you might want to check that the trial is pointed at the right path.\n",
      "[2020-02-11 02:13:01.424 009d7edc9798:613 WARNING trial.py:148] Waiting to read collections files generated by the training job.If this has been a while, you might want to check that the trial is pointed at the right path.\n",
      "[2020-02-11 02:13:03.456 009d7edc9798:613 WARNING trial.py:148] Waiting to read collections files generated by the training job.If this has been a while, you might want to check that the trial is pointed at the right path.\n",
      "[2020-02-11 02:13:05.488 009d7edc9798:613 WARNING trial.py:148] Waiting to read collections files generated by the training job.If this has been a while, you might want to check that the trial is pointed at the right path.\n",
      "[2020-02-11 02:13:07.519 009d7edc9798:613 WARNING trial.py:148] Waiting to read collections files generated by the training job.If this has been a while, you might want to check that the trial is pointed at the right path.\n",
      "[2020-02-11 02:13:09.550 009d7edc9798:613 WARNING trial.py:148] Waiting to read collections files generated by the training job.If this has been a while, you might want to check that the trial is pointed at the right path.\n",
      "[2020-02-11 02:13:11.580 009d7edc9798:613 WARNING trial.py:148] Waiting to read collections files generated by the training job.If this has been a while, you might want to check that the trial is pointed at the right path.\n",
      "[2020-02-11 02:13:13.612 009d7edc9798:613 WARNING trial.py:148] Waiting to read collections files generated by the training job.If this has been a while, you might want to check that the trial is pointed at the right path.\n",
      "[2020-02-11 02:13:15.645 009d7edc9798:613 WARNING trial.py:148] Waiting to read collections files generated by the training job.If this has been a while, you might want to check that the trial is pointed at the right path.\n",
      "[2020-02-11 02:13:17.675 009d7edc9798:613 WARNING trial.py:148] Waiting to read collections files generated by the training job.If this has been a while, you might want to check that the trial is pointed at the right path.\n",
      "[2020-02-11 02:13:19.730 009d7edc9798:613 WARNING trial.py:148] Waiting to read collections files generated by the training job.If this has been a while, you might want to check that the trial is pointed at the right path.\n",
      "[2020-02-11 02:13:21.760 009d7edc9798:613 WARNING trial.py:148] Waiting to read collections files generated by the training job.If this has been a while, you might want to check that the trial is pointed at the right path.\n",
      "[2020-02-11 02:13:23.802 009d7edc9798:613 WARNING trial.py:148] Waiting to read collections files generated by the training job.If this has been a while, you might want to check that the trial is pointed at the right path.\n",
      "[2020-02-11 02:13:25.841 009d7edc9798:613 WARNING trial.py:148] Waiting to read collections files generated by the training job.If this has been a while, you might want to check that the trial is pointed at the right path.\n",
      "[2020-02-11 02:13:27.871 009d7edc9798:613 WARNING trial.py:148] Waiting to read collections files generated by the training job.If this has been a while, you might want to check that the trial is pointed at the right path.\n",
      "[2020-02-11 02:13:29.930 009d7edc9798:613 WARNING trial.py:148] Waiting to read collections files generated by the training job.If this has been a while, you might want to check that the trial is pointed at the right path.\n",
      "[2020-02-11 02:13:31.957 009d7edc9798:613 WARNING trial.py:148] Waiting to read collections files generated by the training job.If this has been a while, you might want to check that the trial is pointed at the right path.\n",
      "[2020-02-11 02:13:33.987 009d7edc9798:613 WARNING trial.py:148] Waiting to read collections files generated by the training job.If this has been a while, you might want to check that the trial is pointed at the right path.\n",
      "[2020-02-11 02:13:36.016 009d7edc9798:613 WARNING trial.py:148] Waiting to read collections files generated by the training job.If this has been a while, you might want to check that the trial is pointed at the right path.\n",
      "[2020-02-11 02:13:38.045 009d7edc9798:613 WARNING trial.py:148] Waiting to read collections files generated by the training job.If this has been a while, you might want to check that the trial is pointed at the right path.\n",
      "[2020-02-11 02:13:40.078 009d7edc9798:613 WARNING trial.py:148] Waiting to read collections files generated by the training job.If this has been a while, you might want to check that the trial is pointed at the right path.\n",
      "[2020-02-11 02:13:42.108 009d7edc9798:613 WARNING trial.py:148] Waiting to read collections files generated by the training job.If this has been a while, you might want to check that the trial is pointed at the right path.\n",
      "[2020-02-11 02:13:44.137 009d7edc9798:613 WARNING trial.py:148] Waiting to read collections files generated by the training job.If this has been a while, you might want to check that the trial is pointed at the right path.\n",
      "[2020-02-11 02:13:46.168 009d7edc9798:613 WARNING trial.py:148] Waiting to read collections files generated by the training job.If this has been a while, you might want to check that the trial is pointed at the right path.\n",
      "[2020-02-11 02:13:48.196 009d7edc9798:613 WARNING trial.py:148] Waiting to read collections files generated by the training job.If this has been a while, you might want to check that the trial is pointed at the right path.\n",
      "[2020-02-11 02:13:50.227 009d7edc9798:613 WARNING trial.py:148] Waiting to read collections files generated by the training job.If this has been a while, you might want to check that the trial is pointed at the right path.\n",
      "[2020-02-11 02:13:52.260 009d7edc9798:613 WARNING trial.py:148] Waiting to read collections files generated by the training job.If this has been a while, you might want to check that the trial is pointed at the right path.\n",
      "[2020-02-11 02:13:54.289 009d7edc9798:613 WARNING trial.py:148] Waiting to read collections files generated by the training job.If this has been a while, you might want to check that the trial is pointed at the right path.\n",
      "[2020-02-11 02:13:56.315 009d7edc9798:613 WARNING trial.py:148] Waiting to read collections files generated by the training job.If this has been a while, you might want to check that the trial is pointed at the right path.\n",
      "[2020-02-11 02:13:58.342 009d7edc9798:613 WARNING trial.py:148] Waiting to read collections files generated by the training job.If this has been a while, you might want to check that the trial is pointed at the right path.\n",
      "[2020-02-11 02:14:00.376 009d7edc9798:613 WARNING trial.py:148] Waiting to read collections files generated by the training job.If this has been a while, you might want to check that the trial is pointed at the right path.\n"
     ]
    }
   ],
   "source": [
    "from smdebug.trials import create_trial\n",
    "trial = create_trial(estimator.latest_job_debugger_artifacts_path())"
   ]
  },
  {
   "cell_type": "markdown",
   "metadata": {},
   "source": [
    "We can list all the tensors that were recorded to know what we want to plot."
   ]
  },
  {
   "cell_type": "code",
   "execution_count": 13,
   "metadata": {},
   "outputs": [
    {
     "name": "stdout",
     "output_type": "stream",
     "text": [
      "[2020-02-11 02:19:23.052 009d7edc9798:613 WARNING s3handler.py:183] Encountered the exception ('Connection broken: IncompleteRead(0 bytes read, 839 more expected)', IncompleteRead(0 bytes read, 839 more expected)) while reading s3://sagemaker-us-east-2-308412838853/smdebugger-demo-mnist-pytorch-2020-02-11-02-10-28-395/debug-output/index/000000000/000000000500_worker_0.json . Will retry now\n"
     ]
    },
    {
     "data": {
      "text/plain": [
       "['CrossEntropyLoss_output_0',\n",
       " 'gradient/Net_conv1.bias',\n",
       " 'gradient/Net_conv1.weight',\n",
       " 'gradient/Net_conv2.bias',\n",
       " 'gradient/Net_conv2.weight',\n",
       " 'gradient/Net_fc1.bias',\n",
       " 'gradient/Net_fc1.weight',\n",
       " 'gradient/Net_fc2.bias',\n",
       " 'gradient/Net_fc2.weight']"
      ]
     },
     "execution_count": 13,
     "metadata": {},
     "output_type": "execute_result"
    }
   ],
   "source": [
    "trial.tensor_names()"
   ]
  },
  {
   "cell_type": "markdown",
   "metadata": {},
   "source": [
    "We can also retrieve tensors by some default collections that smdebug creates from your training job. Here we are interested in the losses collection, so we can retrieve the names of tensors in losses collection as follows. Amazon SageMaker Debugger creates default collections such as weights, gradients, biases, losses automatically. You can also create custom collections from your tensors."
   ]
  },
  {
   "cell_type": "code",
   "execution_count": 14,
   "metadata": {},
   "outputs": [
    {
     "data": {
      "text/plain": [
       "['CrossEntropyLoss_output_0']"
      ]
     },
     "execution_count": 14,
     "metadata": {},
     "output_type": "execute_result"
    }
   ],
   "source": [
    "trial.tensor_names(collection=\"losses\")"
   ]
  },
  {
   "cell_type": "code",
   "execution_count": null,
   "metadata": {},
   "outputs": [],
   "source": []
  }
 ],
 "metadata": {
  "kernelspec": {
   "display_name": "Python 3 (PyTorch CPU Optimized)",
   "language": "python",
   "name": "python3__SAGEMAKER_INTERNAL__arn:aws:sagemaker:us-east-2:429704687514:environment/pytorch-cpu-optimized"
  },
  "language_info": {
   "codemirror_mode": {
    "name": "ipython",
    "version": 3
   },
   "file_extension": ".py",
   "mimetype": "text/x-python",
   "name": "python",
   "nbconvert_exporter": "python",
   "pygments_lexer": "ipython3",
   "version": "3.6.6"
  }
 },
 "nbformat": 4,
 "nbformat_minor": 4
}
